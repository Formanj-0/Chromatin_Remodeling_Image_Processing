{
 "cells": [
  {
   "cell_type": "code",
   "execution_count": 2,
   "metadata": {},
   "outputs": [],
   "source": [
    "import scipy as sc\n",
    "import numpy as np\n",
    "import matplotlib.pyplot as plt\n",
    "from cellpose import models\n",
    "import os\n",
    "from czifile import imread\n",
    "import skimage as sk\n",
    "\n"
   ]
  },
  {
   "cell_type": "code",
   "execution_count": 4,
   "metadata": {},
   "outputs": [
    {
     "name": "stdout",
     "output_type": "stream",
     "text": [
      "{'Control': {'TIMEPOINT 1 T 0 MIN': {'C1_T1.czi': 'c:\\\\Users\\\\Jack\\\\Documents\\\\GitHub\\\\Chromatin_Remodeling_Image_Processing\\\\Raw_Datasets\\\\Super_Res\\\\2023-06-21\\\\TIMEPOINT 1 T 0 MIN\\\\C1_T1.czi', 'C2_T1.czi': 'c:\\\\Users\\\\Jack\\\\Documents\\\\GitHub\\\\Chromatin_Remodeling_Image_Processing\\\\Raw_Datasets\\\\Super_Res\\\\2023-06-21\\\\TIMEPOINT 1 T 0 MIN\\\\C2_T1.czi', 'C3_T1.czi': 'c:\\\\Users\\\\Jack\\\\Documents\\\\GitHub\\\\Chromatin_Remodeling_Image_Processing\\\\Raw_Datasets\\\\Super_Res\\\\2023-06-21\\\\TIMEPOINT 1 T 0 MIN\\\\C3_T1.czi', 'C4_T1.czi': 'c:\\\\Users\\\\Jack\\\\Documents\\\\GitHub\\\\Chromatin_Remodeling_Image_Processing\\\\Raw_Datasets\\\\Super_Res\\\\2023-06-21\\\\TIMEPOINT 1 T 0 MIN\\\\C4_T1.czi', 'C5_T1.czi': 'c:\\\\Users\\\\Jack\\\\Documents\\\\GitHub\\\\Chromatin_Remodeling_Image_Processing\\\\Raw_Datasets\\\\Super_Res\\\\2023-06-21\\\\TIMEPOINT 1 T 0 MIN\\\\C5_T1.czi'}, 'TIMEPOINT 2 T 45 MIN': {'C1_T2.czi': 'c:\\\\Users\\\\Jack\\\\Documents\\\\GitHub\\\\Chromatin_Remodeling_Image_Processing\\\\Raw_Datasets\\\\Super_Res\\\\2023-06-21\\\\TIMEPOINT 2 T 45 MIN\\\\C1_T2.czi', 'C2_T2.czi': 'c:\\\\Users\\\\Jack\\\\Documents\\\\GitHub\\\\Chromatin_Remodeling_Image_Processing\\\\Raw_Datasets\\\\Super_Res\\\\2023-06-21\\\\TIMEPOINT 2 T 45 MIN\\\\C2_T2.czi', 'C3_T2.czi': 'c:\\\\Users\\\\Jack\\\\Documents\\\\GitHub\\\\Chromatin_Remodeling_Image_Processing\\\\Raw_Datasets\\\\Super_Res\\\\2023-06-21\\\\TIMEPOINT 2 T 45 MIN\\\\C3_T2.czi', 'C4_T2.czi': 'c:\\\\Users\\\\Jack\\\\Documents\\\\GitHub\\\\Chromatin_Remodeling_Image_Processing\\\\Raw_Datasets\\\\Super_Res\\\\2023-06-21\\\\TIMEPOINT 2 T 45 MIN\\\\C4_T2.czi', 'C5_T2.czi': 'c:\\\\Users\\\\Jack\\\\Documents\\\\GitHub\\\\Chromatin_Remodeling_Image_Processing\\\\Raw_Datasets\\\\Super_Res\\\\2023-06-21\\\\TIMEPOINT 2 T 45 MIN\\\\C5_T2.czi'}, 'TIMEPOINT 3 T 90 MIN': {'C1_T3.czi': 'c:\\\\Users\\\\Jack\\\\Documents\\\\GitHub\\\\Chromatin_Remodeling_Image_Processing\\\\Raw_Datasets\\\\Super_Res\\\\2023-06-21\\\\TIMEPOINT 3 T 90 MIN\\\\C1_T3.czi', 'C2_T3.czi': 'c:\\\\Users\\\\Jack\\\\Documents\\\\GitHub\\\\Chromatin_Remodeling_Image_Processing\\\\Raw_Datasets\\\\Super_Res\\\\2023-06-21\\\\TIMEPOINT 3 T 90 MIN\\\\C2_T3.czi', 'C3_T3.czi': 'c:\\\\Users\\\\Jack\\\\Documents\\\\GitHub\\\\Chromatin_Remodeling_Image_Processing\\\\Raw_Datasets\\\\Super_Res\\\\2023-06-21\\\\TIMEPOINT 3 T 90 MIN\\\\C3_T3.czi', 'C4_T3.czi': 'c:\\\\Users\\\\Jack\\\\Documents\\\\GitHub\\\\Chromatin_Remodeling_Image_Processing\\\\Raw_Datasets\\\\Super_Res\\\\2023-06-21\\\\TIMEPOINT 3 T 90 MIN\\\\C4_T3.czi', 'C5_T3.czi': 'c:\\\\Users\\\\Jack\\\\Documents\\\\GitHub\\\\Chromatin_Remodeling_Image_Processing\\\\Raw_Datasets\\\\Super_Res\\\\2023-06-21\\\\TIMEPOINT 3 T 90 MIN\\\\C5_T3.czi'}, 'TIMEPOINT 4 T 135 MIN': {'C1_T4.czi': 'c:\\\\Users\\\\Jack\\\\Documents\\\\GitHub\\\\Chromatin_Remodeling_Image_Processing\\\\Raw_Datasets\\\\Super_Res\\\\2023-06-21\\\\TIMEPOINT 4 T 135 MIN\\\\C1_T4.czi', 'C2_T4.czi': 'c:\\\\Users\\\\Jack\\\\Documents\\\\GitHub\\\\Chromatin_Remodeling_Image_Processing\\\\Raw_Datasets\\\\Super_Res\\\\2023-06-21\\\\TIMEPOINT 4 T 135 MIN\\\\C2_T4.czi', 'C4_T4.czi': 'c:\\\\Users\\\\Jack\\\\Documents\\\\GitHub\\\\Chromatin_Remodeling_Image_Processing\\\\Raw_Datasets\\\\Super_Res\\\\2023-06-21\\\\TIMEPOINT 4 T 135 MIN\\\\C4_T4.czi', 'C5_T4.czi': 'c:\\\\Users\\\\Jack\\\\Documents\\\\GitHub\\\\Chromatin_Remodeling_Image_Processing\\\\Raw_Datasets\\\\Super_Res\\\\2023-06-21\\\\TIMEPOINT 4 T 135 MIN\\\\C5_T4.czi'}, 'TIMEPOINT 5 T 190 MIN': {'C1_T5.czi': 'c:\\\\Users\\\\Jack\\\\Documents\\\\GitHub\\\\Chromatin_Remodeling_Image_Processing\\\\Raw_Datasets\\\\Super_Res\\\\2023-06-21\\\\TIMEPOINT 5 T 190 MIN\\\\C1_T5.czi', 'C2_T5.czi': 'c:\\\\Users\\\\Jack\\\\Documents\\\\GitHub\\\\Chromatin_Remodeling_Image_Processing\\\\Raw_Datasets\\\\Super_Res\\\\2023-06-21\\\\TIMEPOINT 5 T 190 MIN\\\\C2_T5.czi', 'C3_T5.czi': 'c:\\\\Users\\\\Jack\\\\Documents\\\\GitHub\\\\Chromatin_Remodeling_Image_Processing\\\\Raw_Datasets\\\\Super_Res\\\\2023-06-21\\\\TIMEPOINT 5 T 190 MIN\\\\C3_T5.czi', 'C4_T5.czi': 'c:\\\\Users\\\\Jack\\\\Documents\\\\GitHub\\\\Chromatin_Remodeling_Image_Processing\\\\Raw_Datasets\\\\Super_Res\\\\2023-06-21\\\\TIMEPOINT 5 T 190 MIN\\\\C4_T5.czi', 'C5_T5.czi': 'c:\\\\Users\\\\Jack\\\\Documents\\\\GitHub\\\\Chromatin_Remodeling_Image_Processing\\\\Raw_Datasets\\\\Super_Res\\\\2023-06-21\\\\TIMEPOINT 5 T 190 MIN\\\\C5_T5.czi'}, 'TIMEPOINT 6 T 235 MIN': {'C1_T6.czi': 'c:\\\\Users\\\\Jack\\\\Documents\\\\GitHub\\\\Chromatin_Remodeling_Image_Processing\\\\Raw_Datasets\\\\Super_Res\\\\2023-06-21\\\\TIMEPOINT 6 T 235 MIN\\\\C1_T6.czi', 'C2_T6.czi': 'c:\\\\Users\\\\Jack\\\\Documents\\\\GitHub\\\\Chromatin_Remodeling_Image_Processing\\\\Raw_Datasets\\\\Super_Res\\\\2023-06-21\\\\TIMEPOINT 6 T 235 MIN\\\\C2_T6.czi', 'C3_T6.czi': 'c:\\\\Users\\\\Jack\\\\Documents\\\\GitHub\\\\Chromatin_Remodeling_Image_Processing\\\\Raw_Datasets\\\\Super_Res\\\\2023-06-21\\\\TIMEPOINT 6 T 235 MIN\\\\C3_T6.czi', 'C4_T6.czi': 'c:\\\\Users\\\\Jack\\\\Documents\\\\GitHub\\\\Chromatin_Remodeling_Image_Processing\\\\Raw_Datasets\\\\Super_Res\\\\2023-06-21\\\\TIMEPOINT 6 T 235 MIN\\\\C4_T6.czi', 'C5_T6.czi': 'c:\\\\Users\\\\Jack\\\\Documents\\\\GitHub\\\\Chromatin_Remodeling_Image_Processing\\\\Raw_Datasets\\\\Super_Res\\\\2023-06-21\\\\TIMEPOINT 6 T 235 MIN\\\\C5_T6.czi'}}, 'GSK': {'TIMEPOINT 1 T 0 MIN': {'G2_T1.czi': 'c:\\\\Users\\\\Jack\\\\Documents\\\\GitHub\\\\Chromatin_Remodeling_Image_Processing\\\\Raw_Datasets\\\\Super_Res\\\\2023-06-21\\\\TIMEPOINT 1 T 0 MIN\\\\G2_T1.czi', 'G3_T1.czi': 'c:\\\\Users\\\\Jack\\\\Documents\\\\GitHub\\\\Chromatin_Remodeling_Image_Processing\\\\Raw_Datasets\\\\Super_Res\\\\2023-06-21\\\\TIMEPOINT 1 T 0 MIN\\\\G3_T1.czi', 'G4_T1.czi': 'c:\\\\Users\\\\Jack\\\\Documents\\\\GitHub\\\\Chromatin_Remodeling_Image_Processing\\\\Raw_Datasets\\\\Super_Res\\\\2023-06-21\\\\TIMEPOINT 1 T 0 MIN\\\\G4_T1.czi', 'G5_T1.czi': 'c:\\\\Users\\\\Jack\\\\Documents\\\\GitHub\\\\Chromatin_Remodeling_Image_Processing\\\\Raw_Datasets\\\\Super_Res\\\\2023-06-21\\\\TIMEPOINT 1 T 0 MIN\\\\G5_T1.czi'}, 'TIMEPOINT 2 T 45 MIN': {'G1_T2.czi': 'c:\\\\Users\\\\Jack\\\\Documents\\\\GitHub\\\\Chromatin_Remodeling_Image_Processing\\\\Raw_Datasets\\\\Super_Res\\\\2023-06-21\\\\TIMEPOINT 2 T 45 MIN\\\\G1_T2.czi', 'G2_T2.czi': 'c:\\\\Users\\\\Jack\\\\Documents\\\\GitHub\\\\Chromatin_Remodeling_Image_Processing\\\\Raw_Datasets\\\\Super_Res\\\\2023-06-21\\\\TIMEPOINT 2 T 45 MIN\\\\G2_T2.czi', 'G3_T2.czi': 'c:\\\\Users\\\\Jack\\\\Documents\\\\GitHub\\\\Chromatin_Remodeling_Image_Processing\\\\Raw_Datasets\\\\Super_Res\\\\2023-06-21\\\\TIMEPOINT 2 T 45 MIN\\\\G3_T2.czi', 'G4_T2.czi': 'c:\\\\Users\\\\Jack\\\\Documents\\\\GitHub\\\\Chromatin_Remodeling_Image_Processing\\\\Raw_Datasets\\\\Super_Res\\\\2023-06-21\\\\TIMEPOINT 2 T 45 MIN\\\\G4_T2.czi', 'G5_T2.czi': 'c:\\\\Users\\\\Jack\\\\Documents\\\\GitHub\\\\Chromatin_Remodeling_Image_Processing\\\\Raw_Datasets\\\\Super_Res\\\\2023-06-21\\\\TIMEPOINT 2 T 45 MIN\\\\G5_T2.czi'}, 'TIMEPOINT 3 T 90 MIN': {'G1_T3.czi': 'c:\\\\Users\\\\Jack\\\\Documents\\\\GitHub\\\\Chromatin_Remodeling_Image_Processing\\\\Raw_Datasets\\\\Super_Res\\\\2023-06-21\\\\TIMEPOINT 3 T 90 MIN\\\\G1_T3.czi', 'G2_T3.czi': 'c:\\\\Users\\\\Jack\\\\Documents\\\\GitHub\\\\Chromatin_Remodeling_Image_Processing\\\\Raw_Datasets\\\\Super_Res\\\\2023-06-21\\\\TIMEPOINT 3 T 90 MIN\\\\G2_T3.czi', 'G3_T3.czi': 'c:\\\\Users\\\\Jack\\\\Documents\\\\GitHub\\\\Chromatin_Remodeling_Image_Processing\\\\Raw_Datasets\\\\Super_Res\\\\2023-06-21\\\\TIMEPOINT 3 T 90 MIN\\\\G3_T3.czi', 'G4_T3.czi': 'c:\\\\Users\\\\Jack\\\\Documents\\\\GitHub\\\\Chromatin_Remodeling_Image_Processing\\\\Raw_Datasets\\\\Super_Res\\\\2023-06-21\\\\TIMEPOINT 3 T 90 MIN\\\\G4_T3.czi', 'G5_T3.czi': 'c:\\\\Users\\\\Jack\\\\Documents\\\\GitHub\\\\Chromatin_Remodeling_Image_Processing\\\\Raw_Datasets\\\\Super_Res\\\\2023-06-21\\\\TIMEPOINT 3 T 90 MIN\\\\G5_T3.czi'}, 'TIMEPOINT 4 T 135 MIN': {'G1_T4.czi': 'c:\\\\Users\\\\Jack\\\\Documents\\\\GitHub\\\\Chromatin_Remodeling_Image_Processing\\\\Raw_Datasets\\\\Super_Res\\\\2023-06-21\\\\TIMEPOINT 4 T 135 MIN\\\\G1_T4.czi', 'G2_T4.czi': 'c:\\\\Users\\\\Jack\\\\Documents\\\\GitHub\\\\Chromatin_Remodeling_Image_Processing\\\\Raw_Datasets\\\\Super_Res\\\\2023-06-21\\\\TIMEPOINT 4 T 135 MIN\\\\G2_T4.czi', 'G4_T4.czi': 'c:\\\\Users\\\\Jack\\\\Documents\\\\GitHub\\\\Chromatin_Remodeling_Image_Processing\\\\Raw_Datasets\\\\Super_Res\\\\2023-06-21\\\\TIMEPOINT 4 T 135 MIN\\\\G4_T4.czi', 'G5_T4.czi': 'c:\\\\Users\\\\Jack\\\\Documents\\\\GitHub\\\\Chromatin_Remodeling_Image_Processing\\\\Raw_Datasets\\\\Super_Res\\\\2023-06-21\\\\TIMEPOINT 4 T 135 MIN\\\\G5_T4.czi'}, 'TIMEPOINT 5 T 190 MIN': {'G1_T5.czi': 'c:\\\\Users\\\\Jack\\\\Documents\\\\GitHub\\\\Chromatin_Remodeling_Image_Processing\\\\Raw_Datasets\\\\Super_Res\\\\2023-06-21\\\\TIMEPOINT 5 T 190 MIN\\\\G1_T5.czi', 'G2_T5.czi': 'c:\\\\Users\\\\Jack\\\\Documents\\\\GitHub\\\\Chromatin_Remodeling_Image_Processing\\\\Raw_Datasets\\\\Super_Res\\\\2023-06-21\\\\TIMEPOINT 5 T 190 MIN\\\\G2_T5.czi', 'G3_T5.czi': 'c:\\\\Users\\\\Jack\\\\Documents\\\\GitHub\\\\Chromatin_Remodeling_Image_Processing\\\\Raw_Datasets\\\\Super_Res\\\\2023-06-21\\\\TIMEPOINT 5 T 190 MIN\\\\G3_T5.czi', 'G4_T5.czi': 'c:\\\\Users\\\\Jack\\\\Documents\\\\GitHub\\\\Chromatin_Remodeling_Image_Processing\\\\Raw_Datasets\\\\Super_Res\\\\2023-06-21\\\\TIMEPOINT 5 T 190 MIN\\\\G4_T5.czi', 'G5_T5.czi': 'c:\\\\Users\\\\Jack\\\\Documents\\\\GitHub\\\\Chromatin_Remodeling_Image_Processing\\\\Raw_Datasets\\\\Super_Res\\\\2023-06-21\\\\TIMEPOINT 5 T 190 MIN\\\\G5_T5.czi'}, 'TIMEPOINT 6 T 235 MIN': {'G1_T6.czi': 'c:\\\\Users\\\\Jack\\\\Documents\\\\GitHub\\\\Chromatin_Remodeling_Image_Processing\\\\Raw_Datasets\\\\Super_Res\\\\2023-06-21\\\\TIMEPOINT 6 T 235 MIN\\\\G1_T6.czi', 'G2_T6.czi': 'c:\\\\Users\\\\Jack\\\\Documents\\\\GitHub\\\\Chromatin_Remodeling_Image_Processing\\\\Raw_Datasets\\\\Super_Res\\\\2023-06-21\\\\TIMEPOINT 6 T 235 MIN\\\\G2_T6.czi', 'G3_T6.czi': 'c:\\\\Users\\\\Jack\\\\Documents\\\\GitHub\\\\Chromatin_Remodeling_Image_Processing\\\\Raw_Datasets\\\\Super_Res\\\\2023-06-21\\\\TIMEPOINT 6 T 235 MIN\\\\G3_T6.czi', 'G4_T6.czi': 'c:\\\\Users\\\\Jack\\\\Documents\\\\GitHub\\\\Chromatin_Remodeling_Image_Processing\\\\Raw_Datasets\\\\Super_Res\\\\2023-06-21\\\\TIMEPOINT 6 T 235 MIN\\\\G4_T6.czi', 'G5_T6.czi': 'c:\\\\Users\\\\Jack\\\\Documents\\\\GitHub\\\\Chromatin_Remodeling_Image_Processing\\\\Raw_Datasets\\\\Super_Res\\\\2023-06-21\\\\TIMEPOINT 6 T 235 MIN\\\\G5_T6.czi'}}}\n"
     ]
    }
   ],
   "source": [
    "# Define the folder location\n",
    "folderLoc = os.path.join(os.path.dirname(os.getcwd()), r'Raw_Datasets\\Super_Res\\2023-06-21')\n",
    "\n",
    "\n",
    "# Initialize the main dictionary\n",
    "imageDict = {}\n",
    "imageDict['Control'] = {}\n",
    "imageDict['GSK'] = {}\n",
    "\n",
    "# Get the names of all directories in folderLoc\n",
    "timepointDirs = [name for name in os.listdir(folderLoc) if os.path.isdir(os.path.join(folderLoc, name)) and name.startswith('TIMEPOINT')]\n",
    "\n",
    "# Iterate over each timepoint directory\n",
    "for timepointDir in timepointDirs:\n",
    "    # Initialize the nested dictionary for each timepoint\n",
    "    imageDict['Control'][timepointDir] = {}\n",
    "    imageDict['GSK'][timepointDir] = {}\n",
    "    \n",
    "    # Get the paths to each .czi file that begins with C or G\n",
    "    cziFiles = [os.path.join(folderLoc, timepointDir, file) for file in os.listdir(os.path.join(folderLoc, timepointDir)) if file.startswith(('C', 'G')) and file.endswith('.czi')]\n",
    "\n",
    "    # Add the paths to the nested dictionary\n",
    "    for cziFile in cziFiles:\n",
    "        mainKey = 'Control' if os.path.basename(cziFile).startswith('C') else 'GSK'\n",
    "        imageDict[mainKey][timepointDir][os.path.basename(cziFile)] = cziFile\n",
    "    \n",
    "\n",
    "# Print the resulting dictionary\n",
    "print(imageDict)\n"
   ]
  },
  {
   "cell_type": "code",
   "execution_count": null,
   "metadata": {},
   "outputs": [],
   "source": [
    "def batchProcessing(loc):\n",
    "    img = imread(loc)\n",
    "    "
   ]
  }
 ],
 "metadata": {
  "kernelspec": {
   "display_name": "cellpose-env",
   "language": "python",
   "name": "python3"
  },
  "language_info": {
   "codemirror_mode": {
    "name": "ipython",
    "version": 3
   },
   "file_extension": ".py",
   "mimetype": "text/x-python",
   "name": "python",
   "nbconvert_exporter": "python",
   "pygments_lexer": "ipython3",
   "version": "3.8.18"
  }
 },
 "nbformat": 4,
 "nbformat_minor": 2
}
