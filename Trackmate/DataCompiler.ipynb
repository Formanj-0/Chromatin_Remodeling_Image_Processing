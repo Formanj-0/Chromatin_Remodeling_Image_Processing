{
 "cells": [
  {
   "cell_type": "markdown",
   "metadata": {},
   "source": [
    "Jack Forman <br>\n",
    "CEM Lab <br>\n",
    "Data Sorter <br>"
   ]
  },
  {
   "cell_type": "code",
   "execution_count": 395,
   "metadata": {},
   "outputs": [],
   "source": [
    "import pandas as pd\n",
    "import os\n",
    "import math\n",
    "import matplotlib.pyplot as plt\n",
    "import numpy as np\n"
   ]
  },
  {
   "cell_type": "markdown",
   "metadata": {},
   "source": [
    "User Data"
   ]
  },
  {
   "cell_type": "code",
   "execution_count": 396,
   "metadata": {},
   "outputs": [],
   "source": [
    "Tracksdatalabels = ['LINEARITY_OF_FORWARD_PROGRESSION', 'TRACK_MEAN_SPEED', 'TRACK_DISPLACEMENT'] # Name of measurements in data from #####\n",
    "Spotsdatalabels = []\n",
    "\n",
    "outputloc = r\"E:\\CEMLab\\MigrationAssays\\SingleCellAnalysis\\AllData.xlsx\" # where data is exported to\n",
    "\n",
    "firstTracks = r\"E:\\CEMLab\\MigrationAssays\\SingleCellAnalysis\\5192023\\C1_RTracks.csv\" \n",
    "firstSpots = r\"E:\\CEMLab\\MigrationAssays\\SingleCellAnalysis\\5172023\\C1_LSpots.csv\"\n",
    "\n",
    "groups = ['C', 'G', 'T']\n",
    "folders = [\n",
    "    r\"E:\\CEMLab\\MigrationAssays\\SingleCellAnalysis\\5172023\",\n",
    "    r\"E:\\CEMLab\\MigrationAssays\\SingleCellAnalysis\\5192023\"\n",
    "]"
   ]
  },
  {
   "cell_type": "markdown",
   "metadata": {},
   "source": [
    "Tracks sorting function"
   ]
  },
  {
   "cell_type": "code",
   "execution_count": 397,
   "metadata": {},
   "outputs": [],
   "source": [
    "def isfloat(value):\n",
    "    try: \n",
    "        float(value)\n",
    "        return True\n",
    "    except ValueError:\n",
    "        return False\n",
    "def nancheck(value):\n",
    "    try:\n",
    "        math.isnan(value)\n",
    "        return False\n",
    "    except TypeError:\n",
    "        return True\n",
    "\n",
    "\n",
    "\n",
    "def maindatasortTracks(loc, datalabels):\n",
    "    df = pd.read_csv(loc)\n",
    "    #print(df)\n",
    "    outputdic = {}\n",
    "    for l in datalabels:\n",
    "        outputdic[l] = [float(x) for x in df[l] if isfloat(x)]\n",
    "    return outputdic\n",
    "\n",
    "\n",
    "\n"
   ]
  },
  {
   "cell_type": "markdown",
   "metadata": {},
   "source": [
    "Spots Sorting Function"
   ]
  },
  {
   "cell_type": "code",
   "execution_count": 398,
   "metadata": {},
   "outputs": [],
   "source": [
    "def spotssorting(loc):\n",
    "    '''\n",
    "    Takes in a location\n",
    "    exports data \n",
    "    \n",
    "    '''\n",
    "    data = {}\n",
    "    df = pd.read_csv(loc)\n",
    "    initial = df[df['FRAME']== '0']\n",
    "    x = [float(x) for x in initial['POSITION_X'] if isfloat(x)]\n",
    "    xbar = np.mean(x)\n",
    "    if False == True:\n",
    "        plt.hist(x)\n",
    "        plt.show()\n",
    "    trackids = [x for x in df['TRACK_ID'] if isfloat(x) and nancheck(x)]\n",
    "    trackids = set(trackids)\n",
    "    #trackids = [float(x) for x in df['TRACK_ID'] if isfloat(x)]\n",
    "    #trackids = set(trackids)\n",
    "    for id in trackids:\n",
    "        data[id] = {}\n",
    "        dfid = df[df['TRACK_ID'] == id]\n",
    "        frames = [int(x) for x in dfid['FRAME'] if isfloat(x)]\n",
    "        frames = set(frames)\n",
    "        minframe = min(frames)\n",
    "        frames = [str(x) for x in frames]\n",
    "        xi = float(dfid[dfid['FRAME'] == str(minframe)]['POSITION_X'].iloc[0])\n",
    "        \n",
    "        for f in frames:\n",
    "            if xi < xbar:\n",
    "                if str(int(f) + 1) in frames:\n",
    "                    dx = float(dfid[dfid['FRAME'] == str(int(f) + 1)]['POSITION_X'].iloc[0]) - float(dfid[dfid['FRAME'] == f]['POSITION_X'].iloc[0])\n",
    "                    dy = float(dfid[dfid['FRAME'] == str(int(f) + 1)]['POSITION_Y'].iloc[0]) - float(dfid[dfid['FRAME'] == f]['POSITION_Y'].iloc[0])\n",
    "                    data[id][f] = abs(math.degrees(math.atan2(dy, dx)))\n",
    "            elif xi > xbar:\n",
    "                if str(int(f) + 1) in frames:\n",
    "                    dx = float(dfid[dfid['FRAME'] == str(int(f) + 1)]['POSITION_X'].iloc[0]) - float(dfid[dfid['FRAME'] == f]['POSITION_X'].iloc[0])\n",
    "                    dy = float(dfid[dfid['FRAME'] == str(int(f) + 1)]['POSITION_Y'].iloc[0]) - float(dfid[dfid['FRAME'] == f]['POSITION_Y'].iloc[0])\n",
    "                    data[id][f] = 180 - abs(math.degrees(math.atan2(dy, dx)))\n",
    "    return data\n"
   ]
  },
  {
   "cell_type": "markdown",
   "metadata": {},
   "source": [
    "Batch Processing"
   ]
  },
  {
   "cell_type": "code",
   "execution_count": 399,
   "metadata": {},
   "outputs": [
    {
     "name": "stdout",
     "output_type": "stream",
     "text": [
      "C1_LSpots.csv\n",
      "C1_RSpots.csv\n",
      "C2_LSpots.csv\n",
      "G1_LSpots.csv\n",
      "G2_LSpots.csv\n",
      "G2_RSpots.csv\n",
      "G3_RSpots.csv\n",
      "T1_LSpots.csv\n",
      "T1_RSpots.csv\n",
      "T2_LSpots.csv\n",
      "T2_RSpots.csv\n",
      "C1_LSpots.csv\n",
      "C1_RSpots.csv\n",
      "C2_LSpots.csv\n",
      "G1_LSpots.csv\n",
      "G2_RSpots.csv\n",
      "G3_LSpots.csv\n",
      "G3_RSpots.csv\n",
      "T1_LSpots.csv\n",
      "T1_RSpots.csv\n",
      "T2_LSpots.csv\n",
      "T3_LSpots.csv\n",
      "T3_RSpots.csv\n"
     ]
    }
   ],
   "source": [
    "Saving = True\n",
    "\n",
    "# Tracks Data Extraction\n",
    "Tracks = False # on off switch\n",
    "if Tracks == True:\n",
    "    print('Tracks:')\n",
    "    data = {}\n",
    "    for g in groups:\n",
    "        data[g] = {}\n",
    "        for m in Tracksdatalabels:\n",
    "            data[g][m] = []\n",
    "    for f in folders:\n",
    "        excelfiles = os.listdir(f)\n",
    "        for e in excelfiles:\n",
    "            if 'Tracks' in e:\n",
    "                print(e)\n",
    "                output = maindatasortTracks(f+ '\\\\' + e, Tracksdatalabels)\n",
    "                for m in Tracksdatalabels:\n",
    "                    data[e[0]][m] = data[e[0]][m] + output[m]\n",
    "    if Saving == True:\n",
    "        with pd.ExcelWriter(outputloc, mode='a', if_sheet_exists='replace') as writer: \n",
    "            for g in groups: \n",
    "                df = pd.DataFrame.from_dict(data[g], orient='index')\n",
    "                df = df.transpose()\n",
    "                df.to_excel(writer, sheet_name=g)\n",
    "\n",
    "# Spot Data Extraction\n",
    "Spots = True\n",
    "if Spots == True:\n",
    "    print('Spots:')\n",
    "    data = pd.DataFrame(columns=['Group', 'Track ID', 'Frame Number', 'Angle'])\n",
    "    for f in folders:\n",
    "        excelfiles = os.listdir(f)\n",
    "        for e in excelfiles:\n",
    "            if 'Spots' in e:\n",
    "                print(e)\n",
    "                output = spotssorting(f+ '\\\\' + e)\n",
    "                for id in output.keys():\n",
    "                    idangles = []\n",
    "                    for frame in output[id].keys():\n",
    "                        data.loc[len(data.index)] = [e[0], id, frame, output[id][frame]]\n",
    "    if Saving == True:\n",
    "        with pd.ExcelWriter(outputloc, mode='a', if_sheet_exists='replace') as writer: \n",
    "            data.to_excel(writer, sheet_name=f'Spots 2.0')"
   ]
  },
  {
   "cell_type": "code",
   "execution_count": null,
   "metadata": {},
   "outputs": [],
   "source": []
  }
 ],
 "metadata": {
  "kernelspec": {
   "display_name": "base",
   "language": "python",
   "name": "python3"
  },
  "language_info": {
   "codemirror_mode": {
    "name": "ipython",
    "version": 3
   },
   "file_extension": ".py",
   "mimetype": "text/x-python",
   "name": "python",
   "nbconvert_exporter": "python",
   "pygments_lexer": "ipython3",
   "version": "3.11.4"
  },
  "orig_nbformat": 4
 },
 "nbformat": 4,
 "nbformat_minor": 2
}
